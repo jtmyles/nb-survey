{
 "cells": [
  {
   "cell_type": "code",
   "execution_count": 1,
   "id": "bc589b5e-73a5-4274-b3b5-3a4b16d735c5",
   "metadata": {
    "tags": []
   },
   "outputs": [],
   "source": [
    "import os\n",
    "import sys\n",
    "import fitsio\n",
    "import pandas as pd\n",
    "import numpy as np\n",
    "from numpy import log, log10\n",
    "import scipy.stats as st\n",
    "\n",
    "import yaml\n",
    "\n",
    "from astropy.coordinates import SkyCoord\n",
    "from astropy import units as u\n",
    "\n",
    "import matplotlib as mpl\n",
    "import matplotlib.pyplot as plt\n",
    "import matplotlib.cm as cm\n",
    "from mpl_toolkits.axes_grid1 import make_axes_locatable\n",
    "from matplotlib.ticker import (MultipleLocator, AutoMinorLocator)\n",
    "%matplotlib inline\n",
    "\n",
    "try:\n",
    "    hostname = 'nersc'\n",
    "    repo_dir = '/global/homes/j/jmyles/repositories/'\n",
    "    sys.path.append(repo_dir)\n",
    "    from jmutil.utils_io import save_figure, upload_to_dropbox\n",
    "    from jmutil.cosmo import Hz\n",
    "    plt.style.use('/global/homes/j/jmyles/.matplotlib/stylelib/jmyles.mplstyle')\n",
    "except Exception as e:\n",
    "    pass"
   ]
  },
  {
   "cell_type": "markdown",
   "id": "a52a33dd-05a4-4690-ac30-0036164f7788",
   "metadata": {},
   "source": [
    "Pitch:\n",
    "    \n",
    "The Rubin Observatory Legacy Survey of Space and Time will observe by far the largest dataset of galaxies to date, increasing the total number of galaxies observed from the hundreds of millions to the billions. Among the many challenges that will emerge in analyzing these data is characterizing the distances to these galaxies. Imaging surveys like LSST "
   ]
  },
  {
   "cell_type": "code",
   "execution_count": 11,
   "id": "c42e9bff-8fb2-4b83-9682-42ba0b5f41d9",
   "metadata": {
    "tags": []
   },
   "outputs": [],
   "source": [
    "datadir_repo = '/global/u2/j/jmyles/repositories/narrowband_survey'\n",
    "infile_bands = os.path.join(datadir_repo, 'bands.txt')\n",
    "with open(infile_bands, 'r') as f:\n",
    "    bands = f.readlines()"
   ]
  },
  {
   "cell_type": "code",
   "execution_count": 2,
   "id": "2cc65853-91d9-4ce1-8dff-e87df9937703",
   "metadata": {
    "tags": []
   },
   "outputs": [],
   "source": [
    "datadir_repo = '~/repositories/narrowband_survey'\n",
    "datadir_root = '/pscratch/sd/c/chto100/DESI2/'\n",
    "\n",
    "datadir_truth_surveymags = os.path.join(datadir_root, 'truth_v4_surveymags')\n",
    "datadir_lssty1 = os.path.join(datadir_root, 'LSSTY1_v4_new_v2')\n",
    "\n",
    "infile_truth_surveymags = os.path.join(datadir_truth_surveymags, 'Chinchilla-3-auxv3.421.fits')\n",
    "#infile_lssty1 = os.path.join(datadir_lssty1, 'Chinchilla-3Y3a_v2.0_obs_rmp_0012276.fit')\n",
    "\n",
    "infile_bands = os.path.join(datadir_repo, 'bands.txt')"
   ]
  },
  {
   "cell_type": "code",
   "execution_count": 3,
   "id": "b831f2b3-3bdf-43be-a463-a06f7671a7a9",
   "metadata": {
    "tags": []
   },
   "outputs": [],
   "source": [
    "truth_surveymags = fitsio.read(infile_truth_surveymags)\n",
    "#lssty1 = fitsio.read(infile_lssty1)"
   ]
  },
  {
   "cell_type": "code",
   "execution_count": 4,
   "id": "766c2b5e-7f41-4c1b-951a-24170143c946",
   "metadata": {
    "tags": []
   },
   "outputs": [
    {
     "data": {
      "text/plain": [
       "('TMAG',\n",
       " 'AMAG',\n",
       " 'LMAG',\n",
       " 'OMAG',\n",
       " 'OMAGERR',\n",
       " 'FLUX',\n",
       " 'IVAR',\n",
       " 'Z',\n",
       " 'TMAG_old',\n",
       " 'LMAG_old')"
      ]
     },
     "execution_count": 4,
     "metadata": {},
     "output_type": "execute_result"
    }
   ],
   "source": [
    "truth_surveymags.dtype.names"
   ]
  },
  {
   "cell_type": "code",
   "execution_count": 9,
   "id": "ceba6551-bea2-4d2f-9d52-82b01dfa33e2",
   "metadata": {
    "tags": []
   },
   "outputs": [
    {
     "data": {
      "text/plain": [
       "(7948587, 72)"
      ]
     },
     "execution_count": 9,
     "metadata": {},
     "output_type": "execute_result"
    }
   ],
   "source": [
    "truth_surveymags['LMAG'].shape"
   ]
  },
  {
   "cell_type": "code",
   "execution_count": null,
   "id": "0d2fd56c-79d5-45c3-8e68-6b1cad9b0291",
   "metadata": {},
   "outputs": [],
   "source": [
    "# "
   ]
  },
  {
   "cell_type": "code",
   "execution_count": null,
   "id": "3c7bb21d-d6c5-4cca-8217-52c7f6542509",
   "metadata": {},
   "outputs": [],
   "source": [
    "# generate LSST Y1 mock selection\n",
    "# see e.g. https://github.com/des-science/sompz/blob/main/data/make_buzzard_wide_field.py\n",
    "\n",
    "# Case I : vanilla DES-like SOMPZ\n",
    "# train deep SOM on \n",
    "# vista/VISTA_Filters_at80K_forETC_Z.par\n",
    "# vista/VISTA_Filters_at80K_forETC_Y.par\n",
    "# vista/VISTA_Filters_at80K_forETC_J.par\n",
    "# vista/VISTA_Filters_at80K_forETC_H.par\n",
    "# vista/VISTA_Filters_at80K_forETC_Ks.par\n",
    "# lsst/lsst_u.par\n",
    "# lsst/lsst_g.par\n",
    "# lsst/lsst_r.par\n",
    "# lsst/lsst_i.par\n",
    "# lsst/lsst_z.par\n",
    "# lsst/lsst_y.par\n",
    "\n",
    "# train wide SOM on \n",
    "# lsst/lsst_g.par\n",
    "# lsst/lsst_r.par\n",
    "# lsst/lsst_i.par\n",
    "# lsst/lsst_z.par\n",
    "\n",
    "\n",
    "# Case II : narrow-band survey\n",
    "# add to the deep SOM training vector\n",
    "# pau/*"
   ]
  }
 ],
 "metadata": {
  "kernelspec": {
   "display_name": "py39-proj-fx",
   "language": "python",
   "name": "py39-proj-fx"
  },
  "language_info": {
   "codemirror_mode": {
    "name": "ipython",
    "version": 3
   },
   "file_extension": ".py",
   "mimetype": "text/x-python",
   "name": "python",
   "nbconvert_exporter": "python",
   "pygments_lexer": "ipython3",
   "version": "3.6.5"
  }
 },
 "nbformat": 4,
 "nbformat_minor": 5
}
